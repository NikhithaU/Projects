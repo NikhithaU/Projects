{
  "nbformat": 4,
  "nbformat_minor": 0,
  "metadata": {
    "colab": {
      "provenance": [],
      "include_colab_link": true
    },
    "kernelspec": {
      "name": "python3",
      "display_name": "Python 3"
    },
    "language_info": {
      "name": "python"
    }
  },
  "cells": [
    {
      "cell_type": "markdown",
      "metadata": {
        "id": "view-in-github",
        "colab_type": "text"
      },
      "source": [
        "<a href=\"https://colab.research.google.com/github/NikhithaU/Projects/blob/main/Text_%26_Grammar_Correction.ipynb\" target=\"_parent\"><img src=\"https://colab.research.google.com/assets/colab-badge.svg\" alt=\"Open In Colab\"/></a>"
      ]
    },
    {
      "cell_type": "code",
      "execution_count": 1,
      "metadata": {
        "colab": {
          "base_uri": "https://localhost:8080/"
        },
        "id": "Obtly9a6Zsbb",
        "outputId": "beaa338a-47cc-42df-f0c0-6f6b134bb714"
      },
      "outputs": [
        {
          "output_type": "stream",
          "name": "stderr",
          "text": [
            "[nltk_data] Downloading package punkt to /root/nltk_data...\n",
            "[nltk_data]   Unzipping tokenizers/punkt.zip.\n",
            "[nltk_data] Downloading package averaged_perceptron_tagger to\n",
            "[nltk_data]     /root/nltk_data...\n",
            "[nltk_data]   Unzipping taggers/averaged_perceptron_tagger.zip.\n",
            "[nltk_data] Downloading package wordnet to /root/nltk_data...\n"
          ]
        }
      ],
      "source": [
        "import nltk\n",
        "from nltk import sent_tokenize, word_tokenize, pos_tag\n",
        "from nltk.corpus import wordnet\n",
        "from nltk.tokenize.treebank import TreebankWordDetokenizer\n",
        "import string\n",
        "\n",
        "# Download required NLTK data\n",
        "nltk.download('punkt')\n",
        "nltk.download('averaged_perceptron_tagger')\n",
        "nltk.download('wordnet')\n",
        "\n",
        "def get_wordnet_pos(tag):\n",
        "    \"\"\"Map POS tag to first character used by WordNet\"\"\"\n",
        "    tag = tag[0].upper()\n",
        "    tag_dict = {\"J\": wordnet.ADJ,\n",
        "                \"N\": wordnet.NOUN,\n",
        "                \"V\": wordnet.VERB,\n",
        "                \"R\": wordnet.ADV}\n",
        "    return tag_dict.get(tag, wordnet.NOUN)\n",
        "\n",
        "def correct_text(text):\n",
        "    # Tokenize text into sentences\n",
        "    sentences = sent_tokenize(text)\n",
        "\n",
        "    # Process each sentence separately\n",
        "    corrected_sentences = []\n",
        "    for sentence in sentences:\n",
        "        # Tokenize sentence into words and apply POS tagging\n",
        "        words = word_tokenize(sentence)\n",
        "        tagged_words = pos_tag(words)\n",
        "\n",
        "        # Correct grammar and punctuation errors\n",
        "        corrected_words = []\n",
        "        for i in range(len(tagged_words)):\n",
        "            word = tagged_words[i][0]\n",
        "            pos = tagged_words[i][1]\n",
        "\n",
        "            # Remove trailing punctuation\n",
        "            if i < len(tagged_words) - 1:\n",
        "                next_word = tagged_words[i+1][0]\n",
        "                if next_word in string.punctuation:\n",
        "                    word = word.rstrip(string.punctuation)\n",
        "\n",
        "            # Lemmatize and correct POS tag\n",
        "            lemmatizer = nltk.WordNetLemmatizer()\n",
        "            lemma = lemmatizer.lemmatize(word, get_wordnet_pos(pos))\n",
        "            corrected_pos = pos if pos != 'PRP$' else 'NN' # fix possessive pronouns\n",
        "\n",
        "            # Append corrected word to list\n",
        "            corrected_words.append((lemma, corrected_pos))\n",
        "\n",
        "        # Detokenize corrected words into sentence\n",
        "        corrected_sentence = TreebankWordDetokenizer().detokenize(\n",
        "            [word for word, pos in corrected_words])  # convert tuples to strings\n",
        "        corrected_sentences.append(corrected_sentence)\n",
        "\n",
        "    # Join corrected sentences into text\n",
        "    corrected_text = ' '.join(corrected_sentences)\n",
        "\n",
        "    return corrected_text\n"
      ]
    },
    {
      "cell_type": "code",
      "source": [
        "!pip install --upgrade nltk\n"
      ],
      "metadata": {
        "id": "9SKR8ktNauMX",
        "outputId": "a2b52c64-39d9-454c-95d8-ac830d15e5ef",
        "colab": {
          "base_uri": "https://localhost:8080/"
        }
      },
      "execution_count": 2,
      "outputs": [
        {
          "output_type": "stream",
          "name": "stdout",
          "text": [
            "Requirement already satisfied: nltk in /usr/local/lib/python3.10/dist-packages (3.8.1)\n",
            "Requirement already satisfied: click in /usr/local/lib/python3.10/dist-packages (from nltk) (8.1.7)\n",
            "Requirement already satisfied: joblib in /usr/local/lib/python3.10/dist-packages (from nltk) (1.4.2)\n",
            "Requirement already satisfied: regex>=2021.8.3 in /usr/local/lib/python3.10/dist-packages (from nltk) (2024.5.15)\n",
            "Requirement already satisfied: tqdm in /usr/local/lib/python3.10/dist-packages (from nltk) (4.66.4)\n"
          ]
        }
      ]
    },
    {
      "cell_type": "code",
      "source": [
        "text = \"Shila bought a basket of apples,and then she started eating\"\n",
        "corrected_text = correct_text(text)\n",
        "print(corrected_text)\n",
        "# Output: \"He walked to the store, and then he bought some apples.\"\n"
      ],
      "metadata": {
        "colab": {
          "base_uri": "https://localhost:8080/"
        },
        "id": "WEVYox2jaWx3",
        "outputId": "ab731fab-6f95-4486-dd9b-4fe58f847e96"
      },
      "execution_count": 3,
      "outputs": [
        {
          "output_type": "stream",
          "name": "stdout",
          "text": [
            "Shila buy a basket of apple, and then she start eat\n"
          ]
        }
      ]
    }
  ]
}